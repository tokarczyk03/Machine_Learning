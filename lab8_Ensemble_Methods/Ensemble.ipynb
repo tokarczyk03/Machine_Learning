{
 "cells": [
  {
   "cell_type": "markdown",
   "id": "2b07e7c9",
   "metadata": {},
   "source": [
    "## Ensemble Methods"
   ]
  },
  {
   "cell_type": "code",
   "execution_count": 1,
   "id": "db220b9f",
   "metadata": {},
   "outputs": [],
   "source": [
    "from sklearn.datasets import load_wine\n",
    "from sklearn.tree import DecisionTreeClassifier\n",
    "from sklearn.ensemble import BaggingClassifier, AdaBoostClassifier, GradientBoostingClassifier\n",
    "from sklearn.model_selection import cross_val_score\n",
    "import numpy as np\n"
   ]
  },
  {
   "cell_type": "code",
   "execution_count": 3,
   "id": "269fbcb8",
   "metadata": {},
   "outputs": [
    {
     "name": "stdout",
     "output_type": "stream",
     "text": [
      "Decision Tree: Średnia skuteczność = 0.8883, Odchylenie std = 0.0522\n",
      "Bagging: Średnia skuteczność = 0.9387, Odchylenie std = 0.0407\n",
      "AdaBoost: Średnia skuteczność = 0.9278, Odchylenie std = 0.0648\n",
      "Gradient Boosting: Średnia skuteczność = 0.9778, Odchylenie std = 0.0324\n"
     ]
    }
   ],
   "source": [
    "\n",
    "# Parametry\n",
    "random_state = 1234\n",
    "n_estimators = 100\n",
    "min_samples_leaf = 3\n",
    "cv_folds = 5\n",
    "\n",
    "# Wczytanie danych\n",
    "X, y = load_wine(return_X_y=True)\n",
    "\n",
    "# Klasyfikator bazowy: pojedyncze drzewo\n",
    "clf_tree = DecisionTreeClassifier(min_samples_leaf=min_samples_leaf, random_state=random_state)\n",
    "\n",
    "# Bagging\n",
    "clf_bagging = BaggingClassifier(\n",
    "    estimator=DecisionTreeClassifier(min_samples_leaf=min_samples_leaf),\n",
    "    n_estimators=n_estimators,\n",
    "    random_state=random_state\n",
    ")\n",
    "\n",
    "# AdaBoost\n",
    "clf_adaboost = AdaBoostClassifier(\n",
    "    estimator=DecisionTreeClassifier(max_depth=1, min_samples_leaf=min_samples_leaf),\n",
    "    n_estimators=n_estimators,\n",
    "    algorithm='SAMME',\n",
    "    random_state=random_state\n",
    ")\n",
    "\n",
    "# Gradient Boosting\n",
    "clf_gboost = GradientBoostingClassifier(\n",
    "    max_depth=1,\n",
    "    learning_rate=1.0,\n",
    "    subsample=0.5,\n",
    "    n_estimators=n_estimators,\n",
    "    min_samples_leaf=min_samples_leaf,\n",
    "    random_state=random_state\n",
    ")\n",
    "\n",
    "# Lista klasyfikatorów do porównania\n",
    "models = {\n",
    "    \"Decision Tree\": clf_tree,\n",
    "    \"Bagging\": clf_bagging,\n",
    "    \"AdaBoost\": clf_adaboost,\n",
    "    \"Gradient Boosting\": clf_gboost\n",
    "}\n",
    "\n",
    "# Ocena skuteczności 5-krotną walidacją\n",
    "for name, model in models.items():\n",
    "    scores = cross_val_score(model, X, y, cv=cv_folds)\n",
    "    print(f\"{name}: Średnia skuteczność = {scores.mean():.4f}, Odchylenie std = {scores.std():.4f}\")\n"
   ]
  }
 ],
 "metadata": {
  "kernelspec": {
   "display_name": "PythonML",
   "language": "python",
   "name": "python3"
  },
  "language_info": {
   "codemirror_mode": {
    "name": "ipython",
    "version": 3
   },
   "file_extension": ".py",
   "mimetype": "text/x-python",
   "name": "python",
   "nbconvert_exporter": "python",
   "pygments_lexer": "ipython3",
   "version": "3.12.7"
  }
 },
 "nbformat": 4,
 "nbformat_minor": 5
}
